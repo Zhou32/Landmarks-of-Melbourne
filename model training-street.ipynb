{
 "cells": [
  {
   "cell_type": "code",
   "execution_count": 6,
   "metadata": {},
   "outputs": [],
   "source": [
    "from keras.applications.mobilenet_v2 import MobileNetV2 \n",
    "from keras.applications.mobilenet import MobileNet\n",
    "from keras.applications.densenet import DenseNet169\n",
    "from keras.applications.resnet50 import ResNet50\n",
    "from keras.applications.nasnet import NASNetMobile, NASNetLarge\n",
    "from keras.applications.xception import Xception\n",
    "from keras.applications.inception_v3 import InceptionV3\n",
    "from keras.preprocessing.image import ImageDataGenerator\n",
    "from keras.preprocessing.image import img_to_array\n",
    "from sklearn.preprocessing import LabelBinarizer\n",
    "from sklearn.model_selection import train_test_split\n",
    "from sklearn.metrics import classification_report\n",
    "from keras.models import Sequential, Model, load_model\n",
    "from keras.layers import Input, Dense, Dropout\n",
    "from keras.optimizers import Adam, SGD, Adagrad, Adadelta\n",
    "from keras import backend as K\n",
    "from imutils import paths\n",
    "import matplotlib.pyplot as plt\n",
    "import numpy as np\n",
    "import argparse\n",
    "import imutils\n",
    "import random\n",
    "import pickle\n",
    "import cv2\n",
    "import os\n",
    "import math\n",
    "\n",
    "%matplotlib inline"
   ]
  },
  {
   "cell_type": "code",
   "execution_count": 7,
   "metadata": {},
   "outputs": [],
   "source": [
    "# DATASET_PATH = r\"G:\\landmarks_of_melbourne_sml\"\n",
    "DATASET_PATH = r\"E:\\dataset-street\"\n",
    "TESTSET_PATH = r\"E:\\dataset-street\"\n",
    "\n",
    "# initialize the number of epochs to train for, initial learning rate, batch size, and image dimensions\n",
    "EPOCHS = 5\n",
    "INIT_LR = 0.001\n",
    "BS = 8\n",
    "LABEL_NUM = 10\n",
    "READING_BS = 1000\n",
    "\n",
    "# image dimension may need to change according to the model spec\n",
    "IMAGE_DIMS =  (224, 224, 3)\n",
    "\n",
    "# initialize the data and labels\n",
    "data = []\n",
    "labels = []\n",
    "\n",
    "data_test =[]\n",
    "labels_test=[]\n",
    "\n",
    "# grab the image paths and randomly shuffle them\n",
    "imagePaths = sorted(list(paths.list_images(DATASET_PATH)))\n",
    "random.Random(881278).shuffle(imagePaths)\n",
    "\n",
    "testPaths = sorted(list(paths.list_images(TESTSET_PATH)))"
   ]
  },
  {
   "cell_type": "code",
   "execution_count": 8,
   "metadata": {},
   "outputs": [
    {
     "name": "stdout",
     "output_type": "stream",
     "text": [
      "test data matrix: 983.14MB\n"
     ]
    }
   ],
   "source": [
    "# loop over the test images\n",
    "for testPath in testPaths:\n",
    "    # load the image, pre-process it, and store it in the data_test list\n",
    "    assert os.path.isfile(testPath)\n",
    "    image = cv2.imread(testPath)\n",
    "    image = cv2.resize(image, (IMAGE_DIMS[1], IMAGE_DIMS[0]))\n",
    "    image = img_to_array(image)\n",
    "    data_test.append(image)\n",
    "\n",
    "    # extract the class label from the image path and update the labels_test list\n",
    "    label = testPath.split(os.path.sep)[-2]\n",
    "    labels_test.append(label)\n",
    "    \n",
    "# scale the raw pixel intensities to the range [0, 1]\n",
    "data_test = np.array(data_test, dtype=\"float\") / 255.0\n",
    "labels_test = np.array(labels_test)\n",
    "print(\"test data matrix: {:.2f}MB\".format(data_test.nbytes / (1024 * 1000.0)))\n",
    "\n",
    "# binarize the labels\n",
    "lb = LabelBinarizer()\n",
    "labels_test = lb.fit_transform(labels_test)"
   ]
  },
  {
   "cell_type": "code",
   "execution_count": 9,
   "metadata": {},
   "outputs": [],
   "source": [
    "# create a custom input layer that accepts images of shape IMAGE_DIMS\n",
    "input_tensor = Input(shape=IMAGE_DIMS)\n",
    "\n",
    "# grab the Keras built-in model for transfer learning\n",
    "base_model = MobileNetV2(\n",
    "        include_top=False,\n",
    "        weights='imagenet',\n",
    "        input_tensor=input_tensor,\n",
    "        input_shape=IMAGE_DIMS,\n",
    "        pooling='avg')\n",
    "\n",
    "# original model is trained on different dataset with different number of classes\n",
    "# so we need to append our own output layer\n",
    "output_tensor = Dense(LABEL_NUM, activation='softmax')(base_model.output)\n",
    "\n",
    "model = Model(inputs=input_tensor, outputs=output_tensor)\n",
    "\n",
    "model.compile(Adam(lr=1e-4), loss=\"categorical_crossentropy\", metrics=['accuracy', 'top_k_categorical_accuracy'])"
   ]
  },
  {
   "cell_type": "code",
   "execution_count": 10,
   "metadata": {
    "scrolled": true
   },
   "outputs": [
    {
     "name": "stdout",
     "output_type": "stream",
     "text": [
      "training data matrix: 983.14MB\n",
      "Epoch 1/5\n",
      "105/105 [==============================] - 18s 173ms/step - loss: 2.1072 - acc: 0.2298 - top_k_categorical_accuracy: 0.7119 - val_loss: 1.4566 - val_acc: 0.5335 - val_top_k_categorical_accuracy: 0.8947\n",
      "Epoch 2/5\n",
      "105/105 [==============================] - 10s 98ms/step - loss: 1.5343 - acc: 0.4810 - top_k_categorical_accuracy: 0.9000 - val_loss: 0.9992 - val_acc: 0.7165 - val_top_k_categorical_accuracy: 0.9773\n",
      "Epoch 3/5\n",
      "105/105 [==============================] - 10s 98ms/step - loss: 1.1801 - acc: 0.6071 - top_k_categorical_accuracy: 0.9619 - val_loss: 0.7387 - val_acc: 0.8014 - val_top_k_categorical_accuracy: 0.9856\n",
      "Epoch 4/5\n",
      "105/105 [==============================] - 10s 96ms/step - loss: 0.9424 - acc: 0.7119 - top_k_categorical_accuracy: 0.9655 - val_loss: 0.5637 - val_acc: 0.8421 - val_top_k_categorical_accuracy: 0.9928\n",
      "Epoch 5/5\n",
      "105/105 [==============================] - 10s 95ms/step - loss: 0.6478 - acc: 0.8083 - top_k_categorical_accuracy: 0.9917 - val_loss: 0.4166 - val_acc: 0.8816 - val_top_k_categorical_accuracy: 0.9952\n"
     ]
    }
   ],
   "source": [
    "chunk_paths = [imagePaths[i:i + READING_BS] for i in range(0, len(imagePaths), READING_BS)]\n",
    "for chunk_path in chunk_paths:\n",
    "    # loop over the each chuck\n",
    "    data = []\n",
    "    labels = []\n",
    "    for imagePath in chunk_path:\n",
    "        # load the image, pre-process it, and store it in the data list\n",
    "        assert os.path.isfile(imagePath)\n",
    "        image = cv2.imread(imagePath)\n",
    "        image = cv2.resize(image, (IMAGE_DIMS[1], IMAGE_DIMS[0]))\n",
    "        image = img_to_array(image)\n",
    "        data.append(image)\n",
    "\n",
    "        # extract the class label from the image path and update the labels list\n",
    "        label = imagePath.split(os.path.sep)[-2]\n",
    "        labels.append(label)\n",
    "    \n",
    "    # construct the image generator for data augmentation\n",
    "    # aug = ImageDataGenerator(rotation_range=25, width_shift_range=0.1, height_shift_range=0.1, \n",
    "    #                          shear_range=0.2, zoom_range=0.2, horizontal_flip=True)\n",
    "    aug = ImageDataGenerator(width_shift_range=0.1, height_shift_range=0.1)\n",
    "    \n",
    "    # scale the raw pixel intensities to the range [0, 1]\n",
    "    data = np.array(data, dtype=\"float\") / 255.0\n",
    "    labels = np.array(labels)\n",
    "    print(\"training data matrix: {:.2f}MB\".format(data.nbytes / (1024 * 1000.0)))\n",
    "\n",
    "    # binarize the labels\n",
    "    lb = LabelBinarizer()\n",
    "    labels = lb.fit_transform(labels)\n",
    "    \n",
    "    h = model.fit_generator(\n",
    "        aug.flow(data, labels, batch_size=BS),\n",
    "        validation_data=(data_test, labels_test),\n",
    "        steps_per_epoch=math.ceil(len(data)/BS),\n",
    "        epochs=EPOCHS, verbose=1)"
   ]
  },
  {
   "cell_type": "code",
   "execution_count": 11,
   "metadata": {},
   "outputs": [],
   "source": [
    "# save the model to disk\n",
    "model.save(\"E:\\models\\Street\")"
   ]
  },
  {
   "cell_type": "code",
   "execution_count": 12,
   "metadata": {},
   "outputs": [],
   "source": [
    "# save the label binarizer to disk\n",
    "f = open(r\"E:\\models\\lb-street\", \"wb\")\n",
    "f.write(pickle.dumps(lb))\n",
    "f.close()"
   ]
  }
 ],
 "metadata": {
  "kernelspec": {
   "display_name": "Python 3",
   "language": "python",
   "name": "python3"
  },
  "language_info": {
   "codemirror_mode": {
    "name": "ipython",
    "version": 3
   },
   "file_extension": ".py",
   "mimetype": "text/x-python",
   "name": "python",
   "nbconvert_exporter": "python",
   "pygments_lexer": "ipython3",
   "version": "3.6.9"
  }
 },
 "nbformat": 4,
 "nbformat_minor": 2
}
